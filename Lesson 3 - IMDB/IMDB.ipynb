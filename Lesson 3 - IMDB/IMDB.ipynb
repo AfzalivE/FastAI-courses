{
 "cells": [
  {
   "cell_type": "markdown",
   "metadata": {},
   "source": [
    "# IMDB"
   ]
  },
  {
   "cell_type": "code",
   "execution_count": 1,
   "metadata": {},
   "outputs": [],
   "source": [
    "%reload_ext autoreload\n",
    "%autoreload 2\n",
    "%matplotlib inline"
   ]
  },
  {
   "cell_type": "code",
   "execution_count": 2,
   "metadata": {},
   "outputs": [],
   "source": [
    "from fastai.text import *"
   ]
  },
  {
   "cell_type": "markdown",
   "metadata": {},
   "source": [
    "## Exploration and Preparing (Sample)"
   ]
  },
  {
   "cell_type": "code",
   "execution_count": 3,
   "metadata": {},
   "outputs": [
    {
     "data": {
      "text/plain": [
       "[PosixPath('/home/jupyter/.fastai/data/imdb_sample/data_save.pkl'),\n",
       " PosixPath('/home/jupyter/.fastai/data/imdb_sample/texts.csv')]"
      ]
     },
     "execution_count": 3,
     "metadata": {},
     "output_type": "execute_result"
    }
   ],
   "source": [
    "# Pull data\n",
    "\n",
    "path = untar_data(URLs.IMDB_SAMPLE)\n",
    "path.ls()"
   ]
  },
  {
   "cell_type": "code",
   "execution_count": 4,
   "metadata": {
    "collapsed": true
   },
   "outputs": [
    {
     "data": {
      "text/html": [
       "<div>\n",
       "<style scoped>\n",
       "    .dataframe tbody tr th:only-of-type {\n",
       "        vertical-align: middle;\n",
       "    }\n",
       "\n",
       "    .dataframe tbody tr th {\n",
       "        vertical-align: top;\n",
       "    }\n",
       "\n",
       "    .dataframe thead th {\n",
       "        text-align: right;\n",
       "    }\n",
       "</style>\n",
       "<table border=\"1\" class=\"dataframe\">\n",
       "  <thead>\n",
       "    <tr style=\"text-align: right;\">\n",
       "      <th></th>\n",
       "      <th>label</th>\n",
       "      <th>text</th>\n",
       "      <th>is_valid</th>\n",
       "    </tr>\n",
       "  </thead>\n",
       "  <tbody>\n",
       "    <tr>\n",
       "      <th>0</th>\n",
       "      <td>negative</td>\n",
       "      <td>Un-bleeping-believable! Meg Ryan doesn't even ...</td>\n",
       "      <td>False</td>\n",
       "    </tr>\n",
       "    <tr>\n",
       "      <th>1</th>\n",
       "      <td>positive</td>\n",
       "      <td>This is a extremely well-made film. The acting...</td>\n",
       "      <td>False</td>\n",
       "    </tr>\n",
       "    <tr>\n",
       "      <th>2</th>\n",
       "      <td>negative</td>\n",
       "      <td>Every once in a long while a movie will come a...</td>\n",
       "      <td>False</td>\n",
       "    </tr>\n",
       "    <tr>\n",
       "      <th>3</th>\n",
       "      <td>positive</td>\n",
       "      <td>Name just says it all. I watched this movie wi...</td>\n",
       "      <td>False</td>\n",
       "    </tr>\n",
       "    <tr>\n",
       "      <th>4</th>\n",
       "      <td>negative</td>\n",
       "      <td>This movie succeeds at being one of the most u...</td>\n",
       "      <td>False</td>\n",
       "    </tr>\n",
       "  </tbody>\n",
       "</table>\n",
       "</div>"
      ],
      "text/plain": [
       "      label                                               text  is_valid\n",
       "0  negative  Un-bleeping-believable! Meg Ryan doesn't even ...     False\n",
       "1  positive  This is a extremely well-made film. The acting...     False\n",
       "2  negative  Every once in a long while a movie will come a...     False\n",
       "3  positive  Name just says it all. I watched this movie wi...     False\n",
       "4  negative  This movie succeeds at being one of the most u...     False"
      ]
     },
     "execution_count": 4,
     "metadata": {},
     "output_type": "execute_result"
    }
   ],
   "source": [
    "df = pd.read_csv(path/'texts.csv')\n",
    "df.head()"
   ]
  },
  {
   "cell_type": "code",
   "execution_count": 5,
   "metadata": {
    "collapsed": true
   },
   "outputs": [
    {
     "data": {
      "text/plain": [
       "'This is a extremely well-made film. The acting, script and camera-work are all first-rate. The music is good, too, though it is mostly early in the film, when things are still relatively cheery. There are no really superstars in the cast, though several faces will be familiar. The entire cast does an excellent job with the script.<br /><br />But it is hard to watch, because there is no good end to a situation like the one presented. It is now fashionable to blame the British for setting Hindus and Muslims against each other, and then cruelly separating them into two countries. There is some merit in this view, but it\\'s also true that no one forced Hindus and Muslims in the region to mistreat each other as they did around the time of partition. It seems more likely that the British simply saw the tensions between the religions and were clever enough to exploit them to their own ends.<br /><br />The result is that there is much cruelty and inhumanity in the situation and this is very unpleasant to remember and to see on the screen. But it is never painted as a black-and-white case. There is baseness and nobility on both sides, and also the hope for change in the younger generation.<br /><br />There is redemption of a sort, in the end, when Puro has to make a hard choice between a man who has ruined her life, but also truly loved her, and her family which has disowned her, then later come looking for her. But by that point, she has no option that is without great pain for her.<br /><br />This film carries the message that both Muslims and Hindus have their grave faults, and also that both can be dignified and caring people. The reality of partition makes that realisation all the more wrenching, since there can never be real reconciliation across the India/Pakistan border. In that sense, it is similar to \"Mr & Mrs Iyer\".<br /><br />In the end, we were glad to have seen the film, even though the resolution was heartbreaking. If the UK and US could deal with their own histories of racism with this kind of frankness, they would certainly be better off.'"
      ]
     },
     "execution_count": 5,
     "metadata": {},
     "output_type": "execute_result"
    }
   ],
   "source": [
    "df['text'][1]"
   ]
  },
  {
   "cell_type": "code",
   "execution_count": 6,
   "metadata": {
    "collapsed": true
   },
   "outputs": [
    {
     "data": {
      "text/html": [
       "<table border=\"1\" class=\"dataframe\">\n",
       "  <thead>\n",
       "    <tr style=\"text-align: right;\">\n",
       "      <th>text</th>\n",
       "      <th>target</th>\n",
       "    </tr>\n",
       "  </thead>\n",
       "  <tbody>\n",
       "    <tr>\n",
       "      <td>xxbos xxup the xxup shop xxup around xxup the xxup corner is one of the sweetest and most feel - good romantic comedies ever made . xxmaj there 's just no getting around that , and it 's hard to actually put one 's feeling for this film into words . xxmaj it 's not one of those films that tries too hard , nor does it come up with</td>\n",
       "      <td>positive</td>\n",
       "    </tr>\n",
       "    <tr>\n",
       "      <td>xxbos xxmaj many neglect that this is n't just a classic due to the fact that it 's the first xxup 3d game , or even the first xxunk - up . xxmaj it 's also one of the first stealth games , one of the xxunk definitely the first ) truly claustrophobic games , and just a pretty well - xxunk gaming experience in general . xxmaj with graphics</td>\n",
       "      <td>positive</td>\n",
       "    </tr>\n",
       "    <tr>\n",
       "      <td>xxbos i really wanted to love this show . i truly , honestly did . \\n \\n  xxmaj for the first time , gay viewers get their own version of the \" xxmaj the xxmaj bachelor \" . xxmaj with the help of his obligatory \" hag \" xxmaj xxunk , xxmaj james , a good looking , well - to - do thirty - something has the chance</td>\n",
       "      <td>negative</td>\n",
       "    </tr>\n",
       "    <tr>\n",
       "      <td>xxbos \\n \\n  i 'm sure things did n't exactly go the same way in the real life of xxmaj homer xxmaj hickam as they did in the film adaptation of his book , xxmaj rocket xxmaj boys , but the movie \" xxmaj october xxmaj sky \" ( an xxunk of the book 's title ) is good enough to stand alone . i have not read xxmaj</td>\n",
       "      <td>positive</td>\n",
       "    </tr>\n",
       "    <tr>\n",
       "      <td>xxbos xxmaj to review this movie , i without any doubt would have to quote that memorable scene in xxmaj tarantino 's \" xxmaj pulp xxmaj fiction \" ( xxunk ) when xxmaj jules and xxmaj vincent are talking about xxmaj mia xxmaj wallace and what she does for a living . xxmaj jules tells xxmaj vincent that the \" xxmaj only thing she did worthwhile was pilot \" .</td>\n",
       "      <td>negative</td>\n",
       "    </tr>\n",
       "  </tbody>\n",
       "</table>"
      ],
      "text/plain": [
       "<IPython.core.display.HTML object>"
      ]
     },
     "metadata": {},
     "output_type": "display_data"
    }
   ],
   "source": [
    "data = TextClasDataBunch.from_csv(path, 'texts.csv')\n",
    "data.show_batch()"
   ]
  },
  {
   "cell_type": "code",
   "execution_count": 7,
   "metadata": {
    "collapsed": true
   },
   "outputs": [
    {
     "data": {
      "text/plain": [
       "['xxunk',\n",
       " 'xxpad',\n",
       " 'xxbos',\n",
       " 'xxeos',\n",
       " 'xxfld',\n",
       " 'xxmaj',\n",
       " 'xxup',\n",
       " 'xxrep',\n",
       " 'xxwrep',\n",
       " 'the']"
      ]
     },
     "execution_count": 7,
     "metadata": {},
     "output_type": "execute_result"
    }
   ],
   "source": [
    "data.vocab.itos[:10]"
   ]
  },
  {
   "cell_type": "markdown",
   "metadata": {},
   "source": [
    "### Numericalization\n",
    "The first step of processing we make the texts go through is to split the raw sentences into words, or more exactly tokens. The easiest way to do this would be to split the string on spaces, but we can be smarter:\n",
    "\n",
    "- we need to take care of punctuation\n",
    "- some words are contractions of two different words, like isn't or don't\n",
    "- we may need to clean some parts of our texts, if there's HTML code for instance\n",
    "\n",
    "To see what the tokenizer had done behind the scenes, let's have a look at a few texts in a batch.\n",
    "\n",
    "Once we have extracted tokens from our texts, we convert to integers by creating a list of all the words used. We only keep the ones that appear at least twice with a maximum vocabulary size of 60,000 (by default) and replace the ones that don't make the cut by the unknown token `UNK`.\n",
    "\n",
    "The correspondance from ids to tokens is stored in the `vocab` attribute of our datasets, in a dictionary called `itos` (for int to string)."
   ]
  },
  {
   "cell_type": "code",
   "execution_count": 8,
   "metadata": {
    "collapsed": true
   },
   "outputs": [
    {
     "data": {
      "text/plain": [
       "Text xxbos xxmaj first of all i thought it was naughty of them to say in the credits that the story and screenplay were by xxmaj preston xxmaj sturges . xxmaj sturges was one of the better xxmaj hollywood screenwriters until his talent xxunk and he retired . xxmaj however , it was n't the xxmaj preston xxmaj sturges , it was xxmaj preston xxmaj sturges , xxmaj jr. xxmaj the story was essentially based on xxmaj robert xxmaj louis xxmaj stevenson 's short story \" xxmaj the xxmaj bottle xxmaj xxunk \" . a good man comes into possession of an evil object that will grant him any wish but which will ultimately doom him to hell . xxmaj that 's fine . xxmaj nobody said screenwriters had to be original . xxmaj the actors are generally pretty competent given the mediocre writing that they had to translate onto the screen . xxmaj my biggest complaint comes with the ending . xxmaj the hero thinks he has discovered a way out of his dilemma but tries to solve the problem in a somewhat different way in an attempt to save an innocent person . xxmaj at first this seems to have worked but true to the code of the modern horror film , they feel they have to provide one last xxunk of horror at the very end of the film . xxmaj this is a stupid convention . xxmaj the older horror films got along just fine with allowing the hero to win out at the end . xxmaj there is nothing wrong with good xxunk over evil no matter what the current crop of film makers seems to think . xxmaj you can give the audience a good healthy scare and still make them feel happy at the end . xxmaj in fact , i think it 's xxunk ."
      ]
     },
     "execution_count": 8,
     "metadata": {},
     "output_type": "execute_result"
    }
   ],
   "source": [
    "data.train_ds[0][0]"
   ]
  },
  {
   "cell_type": "code",
   "execution_count": 9,
   "metadata": {
    "collapsed": true
   },
   "outputs": [
    {
     "data": {
      "text/plain": [
       "array([   2,    5,  101,   14,   46,   19,  218,   17,   25, 4482])"
      ]
     },
     "execution_count": 9,
     "metadata": {},
     "output_type": "execute_result"
    }
   ],
   "source": [
    "# But the underlying data is all numbers\n",
    "data.train_ds[0][0].data[:10]"
   ]
  },
  {
   "cell_type": "markdown",
   "metadata": {},
   "source": [
    "### With the data block API\n",
    "We can use the data block API with NLP and have a lot more flexibility than what the default factory methods offer. In the previous example for instance, the data was randomly split between train and validation instead of reading the third column of the csv.\n",
    "\n",
    "With the data block API though, we have to manually call the tokenize and numericalize steps. This allows more flexibility, and if you're not using the defaults from fastai, the various arguments to pass will appear in the step they're revelant, so it'll be more readable."
   ]
  },
  {
   "cell_type": "code",
   "execution_count": null,
   "metadata": {},
   "outputs": [],
   "source": [
    "data = (TextList.from_csv(path, 'texts.csv', cols='text')\n",
    "                .split_from_df(col=2)\n",
    "                .label_from_df(cols=0)\n",
    "                .databunch())"
   ]
  },
  {
   "cell_type": "markdown",
   "metadata": {},
   "source": [
    "### (Full dataset) Tokenization"
   ]
  },
  {
   "cell_type": "code",
   "execution_count": 10,
   "metadata": {},
   "outputs": [
    {
     "data": {
      "text/plain": [
       "[PosixPath('/home/jupyter/.fastai/data/imdb/README'),\n",
       " PosixPath('/home/jupyter/.fastai/data/imdb/models'),\n",
       " PosixPath('/home/jupyter/.fastai/data/imdb/unsup'),\n",
       " PosixPath('/home/jupyter/.fastai/data/imdb/train'),\n",
       " PosixPath('/home/jupyter/.fastai/data/imdb/imdb.vocab'),\n",
       " PosixPath('/home/jupyter/.fastai/data/imdb/tmp_lm'),\n",
       " PosixPath('/home/jupyter/.fastai/data/imdb/tmp_clas'),\n",
       " PosixPath('/home/jupyter/.fastai/data/imdb/data_lm.pkl'),\n",
       " PosixPath('/home/jupyter/.fastai/data/imdb/test')]"
      ]
     },
     "execution_count": 10,
     "metadata": {},
     "output_type": "execute_result"
    }
   ],
   "source": [
    "# Pull data\n",
    "\n",
    "path = untar_data(URLs.IMDB)\n",
    "path.ls()"
   ]
  },
  {
   "cell_type": "code",
   "execution_count": 11,
   "metadata": {},
   "outputs": [],
   "source": [
    "## Language model\n",
    "bs=16\n",
    "# reduce if it takes a lot of memory"
   ]
  },
  {
   "cell_type": "markdown",
   "metadata": {},
   "source": [
    "We have to use a special kind of TextDataBunch for the language model, that ignores the labels (that's why we put 0 everywhere), will shuffle the texts at each epoch before concatenating them all together (only for training, we don't shuffle for the validation set) and will send batches that read that text in order with targets that are the next word in the sentence.\n",
    "\n",
    "The line before being a bit long, we want to load quickly the final ids by using the following cell.\n"
   ]
  },
  {
   "cell_type": "code",
   "execution_count": 12,
   "metadata": {},
   "outputs": [],
   "source": [
    "# Tokenize and numericalize text data\n",
    "data_lm = (TextList.from_folder(path)\n",
    "           #Inputs: all the text files in path\n",
    "            .filter_by_folder(include=['train', 'test', 'unsup']) \n",
    "           #We may have other temp folders that contain text files so we only keep what's in train and test\n",
    "            .split_by_rand_pct(0.1)\n",
    "           #We randomly split and keep 10% (10,000 reviews) for validation\n",
    "            .label_for_lm()           \n",
    "           #We want to do a language model so we label accordingly\n",
    "            .databunch(bs=bs))\n",
    "data_lm.save('data_lm.pkl')"
   ]
  },
  {
   "cell_type": "code",
   "execution_count": 13,
   "metadata": {},
   "outputs": [],
   "source": [
    "# For loading the notebook after save\n",
    "data_lm = load_data(path, 'data_lm.pkl', bs=bs)"
   ]
  },
  {
   "cell_type": "code",
   "execution_count": 14,
   "metadata": {},
   "outputs": [
    {
     "data": {
      "text/html": [
       "<table border=\"1\" class=\"dataframe\">\n",
       "  <thead>\n",
       "    <tr style=\"text-align: right;\">\n",
       "      <th>idx</th>\n",
       "      <th>text</th>\n",
       "    </tr>\n",
       "  </thead>\n",
       "  <tbody>\n",
       "    <tr>\n",
       "      <td>0</td>\n",
       "      <td>is wooden as xxmaj adam , although xxmaj chriqui is very convincing as xxmaj eve . xxmaj the frat - house shenanigans are tame beyond belief when compared to other xxmaj lampoon college movies , and the girl waiting for the perfect time to toss in her v - card is an old theme that is n't xxunk in any way by this film . xxmaj after great xxmaj national</td>\n",
       "    </tr>\n",
       "    <tr>\n",
       "      <td>1</td>\n",
       "      <td>most powerful , highly distinctive drama . xxbos i am a major horror film buff , but this was one of the worst films i have ever seen . xxmaj typical of \" xxmaj special xxmaj effects \" movie , the story line suffered ( or should i say , \" xxmaj what story line xxrep 4 ? \") xxmaj the gore was n't even cool gore , just lame</td>\n",
       "    </tr>\n",
       "    <tr>\n",
       "      <td>2</td>\n",
       "      <td>all agree that constitutional rights need to be protected but , at the end of the day , this movie is just another sappy , preachy xxmaj spielberg movie . ( xxmaj and why is it everyone in the future has a hovercraft ? xxmaj even more importantly , when do i get my own hovercraft ? ) xxbos xxmaj wow . xxmaj this movie was xxup horrible . xxmaj</td>\n",
       "    </tr>\n",
       "    <tr>\n",
       "      <td>3</td>\n",
       "      <td>it . xxmaj she 's so pathetic , she 'll stalk her neighbor , but she suddenly has too much pride to be nice to the one co - worker who is trying to be friends with her ? xxmaj too full of pride to even be honest with her own mother as to the troubles she 's having ? xxmaj and that ending- xxmaj call me stupid , but</td>\n",
       "    </tr>\n",
       "    <tr>\n",
       "      <td>4</td>\n",
       "      <td>. xxmaj inexorably , the pieces of his soul meet ( on either side of the opening to the trunk ) and unify . xxmaj trevor 's torment , and the film , abruptly resolve . xxmaj his painful dreams evaporate and he regains his earthly existence . xxbos xxmaj henry xxmaj hathaway made so many and such a variety of films , that when he did something outstanding like</td>\n",
       "    </tr>\n",
       "  </tbody>\n",
       "</table>"
      ],
      "text/plain": [
       "<IPython.core.display.HTML object>"
      ]
     },
     "metadata": {},
     "output_type": "display_data"
    }
   ],
   "source": [
    "data_lm.show_batch()"
   ]
  },
  {
   "cell_type": "code",
   "execution_count": 15,
   "metadata": {},
   "outputs": [],
   "source": [
    "learn = language_model_learner(data_lm, AWD_LSTM, drop_mult=0.3)"
   ]
  },
  {
   "cell_type": "code",
   "execution_count": 16,
   "metadata": {},
   "outputs": [
    {
     "data": {
      "text/html": [],
      "text/plain": [
       "<IPython.core.display.HTML object>"
      ]
     },
     "metadata": {},
     "output_type": "display_data"
    },
    {
     "name": "stdout",
     "output_type": "stream",
     "text": [
      "LR Finder is complete, type {learner_name}.recorder.plot() to see the graph.\n"
     ]
    }
   ],
   "source": [
    "learn.lr_find()"
   ]
  },
  {
   "cell_type": "code",
   "execution_count": 17,
   "metadata": {},
   "outputs": [
    {
     "data": {
      "image/png": "[encoded data removed]",
      "text/plain": [
       "<Figure size 432x288 with 1 Axes>"
      ]
     },
     "metadata": {
      "needs_background": "light"
     },
     "output_type": "display_data"
    }
   ],
   "source": [
    "learn.recorder.plot(skip_end=15)"
   ]
  },
  {
   "cell_type": "code",
   "execution_count": 18,
   "metadata": {},
   "outputs": [
    {
     "data": {
      "text/html": [
       "<table border=\"1\" class=\"dataframe\">\n",
       "  <thead>\n",
       "    <tr style=\"text-align: left;\">\n",
       "      <th>epoch</th>\n",
       "      <th>train_loss</th>\n",
       "      <th>valid_loss</th>\n",
       "      <th>accuracy</th>\n",
       "      <th>time</th>\n",
       "    </tr>\n",
       "  </thead>\n",
       "  <tbody>\n",
       "    <tr>\n",
       "      <td>0</td>\n",
       "      <td>4.503525</td>\n",
       "      <td>4.291763</td>\n",
       "      <td>0.281599</td>\n",
       "      <td>1:35:43</td>\n",
       "    </tr>\n",
       "  </tbody>\n",
       "</table>"
      ],
      "text/plain": [
       "<IPython.core.display.HTML object>"
      ]
     },
     "metadata": {},
     "output_type": "display_data"
    },
    {
     "name": "stderr",
     "output_type": "stream",
     "text": [
      "IOPub message rate exceeded.\n",
      "The notebook server will temporarily stop sending output\n",
      "to the client in order to avoid crashing it.\n",
      "To change this limit, set the config variable\n",
      "`--NotebookApp.iopub_msg_rate_limit`.\n",
      "\n",
      "Current values:\n",
      "NotebookApp.iopub_msg_rate_limit=1000.0 (msgs/sec)\n",
      "NotebookApp.rate_limit_window=3.0 (secs)\n",
      "\n",
      "IOPub message rate exceeded.\n",
      "The notebook server will temporarily stop sending output\n",
      "to the client in order to avoid crashing it.\n",
      "To change this limit, set the config variable\n",
      "`--NotebookApp.iopub_msg_rate_limit`.\n",
      "\n",
      "Current values:\n",
      "NotebookApp.iopub_msg_rate_limit=1000.0 (msgs/sec)\n",
      "NotebookApp.rate_limit_window=3.0 (secs)\n",
      "\n"
     ]
    }
   ],
   "source": [
    "learn.fit_one_cycle(1, 1e-2, moms=(0.8,0.7))"
   ]
  },
  {
   "cell_type": "code",
   "execution_count": 19,
   "metadata": {},
   "outputs": [],
   "source": [
    "learn.save('fit_head')"
   ]
  },
  {
   "cell_type": "code",
   "execution_count": 20,
   "metadata": {},
   "outputs": [
    {
     "data": {
      "text/plain": [
       "LanguageLearner(data=TextLMDataBunch;\n",
       "\n",
       "Train: LabelList (90000 items)\n",
       "x: LMTextList\n",
       "xxbos xxmaj if you check the other comments , you 'll hear about this being a great romantic comedy . xxmaj it 's not . xxmaj as a romantic comedy , it barely passes muster . xxmaj the laughs are few and far between , the plot is completely formulaic , and the only thing \" xxmaj national xxmaj lampoon \" about this film is the title . xxmaj douglas is wooden as xxmaj adam , although xxmaj chriqui is very convincing as xxmaj eve . xxmaj the frat - house shenanigans are tame beyond belief when compared to other xxmaj lampoon college movies , and the girl waiting for the perfect time to toss in her v - card is an old theme that is n't xxunk in any way by this film . xxmaj after great xxmaj national xxmaj lampoon titles like \" xxmaj van xxmaj wilder \" , \" xxmaj animal xxmaj house \" , and the \" xxmaj vacation \" movies , this one feels like the first attempt of someone straight out of film school .,xxbos xxmaj richard xxmaj harris is xxmaj sean xxmaj kilpatrick , the unlikely sheriff of a small xxmaj texas town who always tries to avoid violence . xxmaj however , he undergoes a major change of heart once xxmaj frank xxmaj brand ( an excellent xxmaj rod xxmaj taylor ) , a cold - blooded outlaw , and his nasty gang , cause a ruckus in his town , and lead to the deaths of xxmaj kilpatrick 's wife and son . xxmaj kilpatrick relentlessly tracks them down , even as they cross the border into xxmaj mexico , where xxmaj kilpatrick 's progress is both helped and hindered by xxmaj mexican policeman xxmaj gutierrez ( xxmaj al xxmaj lettieri ) , who is also after xxmaj brand but wants to do things the legal way . \n",
       " \n",
       "  xxmaj while this xxmaj western ( from a story by xxmaj samuel xxmaj fuller , also the original director but fired after disputes with star xxmaj harris ) wo n't be for everybody because of its grim and sometimes ugly nature , there 's no doubt that it hits a real nerve . xxmaj it does n't glorify vigilantism and instead works as an examination of how an obsession with \" justice \" can lead basically good people down a very dark path . xxmaj as the movie goes on , xxmaj kilpatrick displays a newfound proclivity towards ruthlessness . ( xxmaj perhaps most interesting is having xxmaj brand display a touch of humanity late in the movie as he tries to reach out to his own daughter . ) xxmaj it also serves as a good contrast between conflicting ideas as xxmaj kilpatrick and xxmaj gutierrez strike up their rather volatile relationship . \n",
       " \n",
       "  xxmaj excellent widescreen photography is one asset ; a most amusing supporting cast is another . xxmaj neville xxmaj brand is great as \" xxmaj choo xxmaj choo \" , so named for a rail tie at the end of one limb where his hand used to be . xxmaj william xxmaj smith is interesting as the thuggish but seemingly mentally challenged \" xxmaj schoolboy \" , and xxmaj paul xxmaj benjamin is fine as xxmaj jacob , the dapper black gentleman who for whatever unfathomable reason rides with these men and puts up with a lot of their nonsense . xxmaj but xxmaj taylor is the most fun as the swaggering lowlife who puts the whole plot into motion . \n",
       " \n",
       "  xxmaj the movie is rather slowly paced , but offers a very adult story for xxmaj western fans . xxmaj it packs a rather mean punch and while not particularly memorable , it 's still pretty good entertainment . \n",
       " \n",
       "  7 / 10,xxbos i just so it on xxup dvd now . \n",
       " \n",
       "  xxmaj an xxup ok script goes to waste on ' inspirational ' camera shots which are copy - cat & sloppy . xxmaj the editing is so bad , there 's little point to discuss it . xxmaj while some of the acting is decent , the accent of the local xxmaj xxunk is hard to understand some of the time , and harder still to believe it comes off real . xxmaj some plot - lines are meant to be connected in a clever way , but we have seen too much of this before , and some parts are so generic - made it 's painful . xxmaj there is no promise from this film - no new actors , nothing to carry this film even to be a has - been ; it is a never - was . \n",
       " \n",
       "  xxmaj hopefully , we 'll see no more work from the makers of xxmaj haven .,xxbos xxmaj just when you thought this film series could n't make xxup less sense , here comes \" xxmaj the xxmaj prodigal xxmaj planet \" to show us how very wrong we are . \n",
       " \n",
       "  xxmaj the great awfulness starts in the beginning , where preacher man from the last movie has xxup somehow gone back in time and is now not on the guillotine where he ended movie # 3 but is walking down a passageway to the guillotine . a blonde woman saves him as she 's dressed up in a fake military outfit with a fake mark . xxmaj so xxrep 4 . they bust out of the base ( preacher man does n't really find it odd that she was able to smuggle herself onto a military base presided over by a xxup global force but xxrep 4 . anywho ) . xxmaj no mention is ever really made of the preacher man 's dead friends from the last film ... he kinda just forgets them and moves on to our next bunch of misfits . \n",
       " \n",
       "  xxmaj other than blonde woman , preacher man starts a road trip with some women and her bratty teenage daughter who they run into in a nuclear disaster zone brimming with zombie mutants . xxmaj apparently our main characters are immune to radiation as they just walk around in the contaminated air . xxmaj one of the zombies xxup isn't evil and he 's a teenage boy so he hooks up with the girl . xxmaj by ' hooks up ' i mean they hold hands or something , this being a xxmaj christian movie , so we never figure out if his parts still work . \n",
       " \n",
       "  xxmaj lots of driving and stuff happens as they 're going to some caves where all the xxmaj christians live now waiting for xxmaj jesus . xxmaj oh , evil hippie man whose wife got killed by a giant bee last movie is hunting them too . xxmaj it 's kind of like \" xxmaj wild at xxmaj heart \" without the sex . xxmaj la dee da xxrep 4 . zombie boy takes a bullet for the girl or something ( i 'm still pretty sure she does n't even give him a kiss as thanks or anything ) , it turns out blondie actually xxup does have the mark and she was just pretending to be a xxmaj xxunk pretending to have the mark ( ? ) . xxmaj not that we have to worry about her for very long cause xxmaj jesus takes her out with a train collision . xxmaj anyway , preacher man and the mom and her daughter get to the xxmaj christ caves and evil hippie dies during an earthquake . \n",
       " \n",
       "  xxmaj amen,xxbos ok , xxmaj tank is under the curse , and he is making a puppet , which is going to contain his life essence ... i understand this part . what i do n't understand is why is he carving a humanoid body , when he ends up as a xxup tank ! ? ! ? i xxmaj do n't get it xxrep 4 . also the use of old footage for the puppets is just bad . i usually enjoy full moon films .. . i did not enjoy this xxrep 5 .\n",
       "y: LMLabelList\n",
       ",,,,\n",
       "Path: /home/jupyter/.fastai/data/imdb;\n",
       "\n",
       "Valid: LabelList (10000 items)\n",
       "x: LMTextList\n",
       "xxbos xxmaj the xxmaj wraith is one of the few movies growing up in the xxmaj eighties that l found truly captivating from numerous reasons . xxmaj most enduring as a young male at the time of its release were the unique cars , race sequences and a mysterious plot . \n",
       " \n",
       "  xxmaj in my opinion the key elements which make it in every part a \" sci fi classic \" is it still remains the one movie l can continually watch over and over again . xxmaj if you allow yourself not to xxunk certain predictable outcomes and appreciate the legacy of what essential was a low budget film , it has in my opinion more than delivered a satisfactory movie . \n",
       " \n",
       "  xxmaj the movie coupled with the fantastic soundtrack , meant that in years gone by it was always first amongst the movies on video night . xxmaj two movies which l feel a similar and most definitely be appreciated by fans of xxmaj the xxmaj wraith , are two xxmaj australian films made slightly prior to xxmaj the xxmaj wraith . xxmaj the obvious movie being xxmaj mad xxmaj max , however the second less obvious is the movie \" xxmaj running on xxmaj xxunk plots lines , identifiable characters and outback , desert type settings are all evident . \n",
       " \n",
       "  xxmaj in summary a truly enjoyable movie , where you strap yourself along for the ride . xxmaj win the race , xxmaj win the xxmaj girls heart and get the second chance everyone so desperately wishes for .,xxbos xxmaj heather xxmaj graham could n't play a convincing lesbian if her life depended on it . xxmaj who do the producers of the movie think they are ? the xxup absolute xxup worst , most xxup unrealistic movie i 've seen in as long as i can remember . xxmaj this movie is so bad that i felt compelled to sign - up on imdb and make sure the rating of this \" film \" drops . \n",
       " \n",
       "  omg i 'm xxmaj heather xxmaj graham , i just kissed a drunk chick , so while she 's passed out i 'm xxup really going to pace around my room for xxup hours asking myself frantically \" xxup what xxup have i xxup done ? ! \" .. xxmaj jesus heather , get over it and grow up ... and i 'd like to forward that same sentiment to the idiot producers ... and while i 'm at it , instead of this movie being all about an pathetic excuse for a coming out story , perhaps it would have been more suitable to focus the plot onto a character who 's mentally unstable ... like your so - called \" lesbian \" character ... after all , i know the first time i had gay sex , when i left the next morning i jumped to the sky in excitement in the middle of the street ... honestly b*tch , get a grip ... \n",
       " \n",
       "  xxup what a xxup joke ! and please note there are many many many more flaws and appallingly stupid aspects to this lame flick , but i 'm so sick of even thinking about it anymore . bottom line , if you 're a smart person you 'll hate this movie , and if you 're not a smart person , then you 'll love it ... it 's as simple as that .,xxbos xxmaj this movie was beyond disappointment . xxmaj well acted story that means nothing . xxmaj the plot is ridiculous and even what story there is goes absolutely nowhere . xxmaj it truly is n't worth a nickel , buffalo or otherwise .. pun intended !,xxbos i just watched this movie on the xxmaj sci - fi network . xxmaj let 's make one thing perfectly clear : there has never , ever been a quality film or television show that has used the phrase ` xxmaj it 's on a need - to - know basis ' . xxmaj once you hear that phrase , and its subsequent follow - up phrase ` believe me , i need to know ' , you can rest assured you 're watching something written by someone with absolutely no creativity . \n",
       " \n",
       "  xxmaj sandra xxmaj bernhard is terribly miscast in this five hundredth derivation of ` xxmaj alien ' . xxmaj whining and sneering her way through this movie , she sounds ridiculously unconvincing spouting the technical mumbo - jumbo necessary for science fiction films . xxmaj she ai nt no xxmaj sigourney xxmaj weaver , that 's for sure . xxmaj how someone so marvelous in something like ` xxmaj roseanne ' can be such a bad actor in films like this and ` xxmaj hudson xxmaj hawk ' is one of the mysteries of life . \n",
       " \n",
       "  xxmaj this film has the production values of a high - school play : cheap - looking sets , bad lighting , and clumsy - looking props . xxmaj the spacesuits look like second - rate rejects from xxmaj joe 's xxmaj army xxmaj surplus . xxmaj when xxmaj sandra comes back into the ship after a xxunk , she flips the visor lid up , and there 's no seal around it ! xxmaj the flimsy visor looks like it was made from a clear plastic pie - cover from xxmaj xxunk . xxmaj there are no special effects , unless you call an exterior shot of the spaceship a special effect . xxmaj they could n't even spring for some fancy flashing lights or decent music ; tapping military - style xxunk punctuate some of the scenes , while someone practicing a bass fiddle provides the rest of the music . \n",
       " \n",
       "  xxmaj typical of bad films , during the shootout scenes , many many shots are fired in all directions , but it is only coincidental that anyone gets hit , even at point - blank range . xxmaj is it wise to fire a gun onboard a spaceship while you 're surrounded by all kinds of machinery that is keeping you alive ? \n",
       " \n",
       "  xxmaj most of the film consists of close - ups of people standing around talking or arguing while sepia - colored walls float in the background . i 'm convinced that the dialogue was written by a thirteen - year - old boy after watching video games for eighteen hours straight : ` she belongs to me ' , ` it 's stuck in a loop ! ' , ` you do n't drink martinis ! ' , and so forth . xxmaj you get the idea . \n",
       " \n",
       "  xxmaj as if that is n't bad enough , a videotaped xxmaj laura xxmaj san xxmaj giacomo rocks back and forth spouting xxmaj shakespeare . xxmaj good thing she had ` xxmaj just xxmaj shoot xxmaj me ' to fall back on . \n",
       " \n",
       "  xxmaj the only way to describe the quality of this film is that this is the kind of movie they show on xxmaj saturday afternoons when the football game is pre - xxunk . xxmaj the television station figures ` what the hell , there 's no one watching anyway . ' xxmaj it 's either that , or an infomercial .,xxbos when you add up all the aspects from the movie --- the dancing , singing , acting --- the only one who stands out as the best in the cast is xxmaj vanessa xxmaj williams ... her dedication , energy and timeless beauty make xxmaj rosie the perfect role for her . xxmaj never have i ever seen someone portray xxmaj rose with such vibrancy ! xxmaj vanessa 's singing talent shows beautifully with all the songs she performs as xxmaj rose and her acting skills never cease to amaze me ! xxmaj her dancing is so incredible , even if as some people say the choreography was bad --- her dancing skills were displayed better than ever before ! i 'd recommend this version over the ' 63 just because i find that although lengthy the acting by xxmaj vanessa is superb xxrep 5 - not to mention the fact that xxmaj jason xxmaj alexander and the rest of the cast are very impressive as well ( with the exception of xxmaj chynna xxmaj philips ... what in hell were they thinking when they cast her ? ) \n",
       " \n",
       "  xxmaj all in all i 'd say this version is wonderful and i recommend that everyone see this version !\n",
       "y: LMLabelList\n",
       ",,,,\n",
       "Path: /home/jupyter/.fastai/data/imdb;\n",
       "\n",
       "Test: None, model=SequentialRNN(\n",
       "  (0): AWD_LSTM(\n",
       "    (encoder): Embedding(60000, 400, padding_idx=1)\n",
       "    (encoder_dp): EmbeddingDropout(\n",
       "      (emb): Embedding(60000, 400, padding_idx=1)\n",
       "    )\n",
       "    (rnns): ModuleList(\n",
       "      (0): WeightDropout(\n",
       "        (module): LSTM(400, 1152, batch_first=True)\n",
       "      )\n",
       "      (1): WeightDropout(\n",
       "        (module): LSTM(1152, 1152, batch_first=True)\n",
       "      )\n",
       "      (2): WeightDropout(\n",
       "        (module): LSTM(1152, 400, batch_first=True)\n",
       "      )\n",
       "    )\n",
       "    (input_dp): RNNDropout()\n",
       "    (hidden_dps): ModuleList(\n",
       "      (0): RNNDropout()\n",
       "      (1): RNNDropout()\n",
       "      (2): RNNDropout()\n",
       "    )\n",
       "  )\n",
       "  (1): LinearDecoder(\n",
       "    (decoder): Linear(in_features=400, out_features=60000, bias=True)\n",
       "    (output_dp): RNNDropout()\n",
       "  )\n",
       "), opt_func=functools.partial(<class 'torch.optim.adam.Adam'>, betas=(0.9, 0.99)), loss_func=FlattenedLoss of CrossEntropyLoss(), metrics=[<function accuracy at 0x7f8f3b28c200>], true_wd=True, bn_wd=True, wd=0.01, train_bn=True, path=PosixPath('/home/jupyter/.fastai/data/imdb'), model_dir='models', callback_fns=[functools.partial(<class 'fastai.basic_train.Recorder'>, add_time=True, silent=False)], callbacks=[RNNTrainer\n",
       "learn: ...\n",
       "alpha: 2.0\n",
       "beta: 1.0], layer_groups=[Sequential(\n",
       "  (0): WeightDropout(\n",
       "    (module): LSTM(400, 1152, batch_first=True)\n",
       "  )\n",
       "  (1): RNNDropout()\n",
       "), Sequential(\n",
       "  (0): WeightDropout(\n",
       "    (module): LSTM(1152, 1152, batch_first=True)\n",
       "  )\n",
       "  (1): RNNDropout()\n",
       "), Sequential(\n",
       "  (0): WeightDropout(\n",
       "    (module): LSTM(1152, 400, batch_first=True)\n",
       "  )\n",
       "  (1): RNNDropout()\n",
       "), Sequential(\n",
       "  (0): Embedding(60000, 400, padding_idx=1)\n",
       "  (1): EmbeddingDropout(\n",
       "    (emb): Embedding(60000, 400, padding_idx=1)\n",
       "  )\n",
       "  (2): LinearDecoder(\n",
       "    (decoder): Linear(in_features=400, out_features=60000, bias=True)\n",
       "    (output_dp): RNNDropout()\n",
       "  )\n",
       ")], add_time=True, silent=False, cb_fns_registered=True)"
      ]
     },
     "execution_count": 20,
     "metadata": {},
     "output_type": "execute_result"
    }
   ],
   "source": [
    "learn.load('fit_head')"
   ]
  },
  {
   "cell_type": "code",
   "execution_count": null,
   "metadata": {
    "scrolled": false
   },
   "outputs": [
    {
     "data": {
      "text/html": [
       "\n",
       "    <div>\n",
       "        <style>\n",
       "            /* Turns off some styling */\n",
       "            progress {\n",
       "                /* gets rid of default border in Firefox and Opera. */\n",
       "                border: none;\n",
       "                /* Needs to be in here for Safari polyfill so background images work as expected. */\n",
       "                background-size: auto;\n",
       "            }\n",
       "            .progress-bar-interrupted, .progress-bar-interrupted::-webkit-progress-bar {\n",
       "                background: #F44336;\n",
       "            }\n",
       "        </style>\n",
       "      <progress value='0' class='' max='10', style='width:300px; height:20px; vertical-align: middle;'></progress>\n",
       "      0.00% [0/10 00:00<00:00]\n",
       "    </div>\n",
       "    \n",
       "<table border=\"1\" class=\"dataframe\">\n",
       "  <thead>\n",
       "    <tr style=\"text-align: left;\">\n",
       "      <th>epoch</th>\n",
       "      <th>train_loss</th>\n",
       "      <th>valid_loss</th>\n",
       "      <th>accuracy</th>\n",
       "      <th>time</th>\n",
       "    </tr>\n",
       "  </thead>\n",
       "  <tbody>\n",
       "  </tbody>\n",
       "</table><p>\n",
       "\n",
       "    <div>\n",
       "        <style>\n",
       "            /* Turns off some styling */\n",
       "            progress {\n",
       "                /* gets rid of default border in Firefox and Opera. */\n",
       "                border: none;\n",
       "                /* Needs to be in here for Safari polyfill so background images work as expected. */\n",
       "                background-size: auto;\n",
       "            }\n",
       "            .progress-bar-interrupted, .progress-bar-interrupted::-webkit-progress-bar {\n",
       "                background: #F44336;\n",
       "            }\n",
       "        </style>\n",
       "      <progress value='22634' class='' max='24137', style='width:300px; height:20px; vertical-align: middle;'></progress>\n",
       "      93.77% [22634/24137 1:34:42<06:17 4.2011]\n",
       "    </div>\n",
       "    "
      ],
      "text/plain": [
       "<IPython.core.display.HTML object>"
      ]
     },
     "metadata": {},
     "output_type": "display_data"
    },
    {
     "name": "stderr",
     "output_type": "stream",
     "text": [
      "IOPub message rate exceeded.\n",
      "The notebook server will temporarily stop sending output\n",
      "to the client in order to avoid crashing it.\n",
      "To change this limit, set the config variable\n",
      "`--NotebookApp.iopub_msg_rate_limit`.\n",
      "\n",
      "Current values:\n",
      "NotebookApp.iopub_msg_rate_limit=1000.0 (msgs/sec)\n",
      "NotebookApp.rate_limit_window=3.0 (secs)\n",
      "\n"
     ]
    }
   ],
   "source": [
    "learn.unfreeze()\n",
    "learn.fit_one_cycle(10, 1e-2, moms=(0.8,0.7))"
   ]
  },
  {
   "cell_type": "code",
   "execution_count": null,
   "metadata": {},
   "outputs": [],
   "source": [
    "learn.save('fine_tuned')"
   ]
  },
  {
   "cell_type": "code",
   "execution_count": null,
   "metadata": {},
   "outputs": [],
   "source": [
    "learn.load('fine_tuned')"
   ]
  },
  {
   "cell_type": "code",
   "execution_count": null,
   "metadata": {},
   "outputs": [],
   "source": [
    "learn.predict(\"I liked this movie because \", 100, temperature=1.1, min_p=0.001)"
   ]
  },
  {
   "cell_type": "code",
   "execution_count": null,
   "metadata": {},
   "outputs": [],
   "source": [
    "learn.save('fine_tuned_enc')"
   ]
  },
  {
   "cell_type": "markdown",
   "metadata": {},
   "source": [
    "# Classifier"
   ]
  },
  {
   "cell_type": "code",
   "execution_count": null,
   "metadata": {},
   "outputs": [],
   "source": [
    "data_clas = (TextFilesList.from_folder(path, vocab=data_lm.vocab)\n",
    "             .split_by_folder(valid=\"test\")\n",
    "             .label_from_encoder(classes=['neg','pos'])\n",
    "             .databunch(bs=50))\n",
    "data_clas.save('tmp_clas')"
   ]
  },
  {
   "cell_type": "code",
   "execution_count": null,
   "metadata": {},
   "outputs": [],
   "source": [
    "data_clas = TextClasDataBunch.load(path, 'tmp_clas', bs=50)\n",
    "data_clas.show_batch()"
   ]
  },
  {
   "cell_type": "code",
   "execution_count": null,
   "metadata": {},
   "outputs": [],
   "source": [
    "learn = text_classifier_learner(data_clas, drop_mult=0.5)\n",
    "learn.load_encoder('fine_tuned_enc')\n",
    "learn.freeze()"
   ]
  },
  {
   "cell_type": "code",
   "execution_count": null,
   "metadata": {},
   "outputs": [],
   "source": [
    "learn.lr_find()"
   ]
  },
  {
   "cell_type": "code",
   "execution_count": null,
   "metadata": {},
   "outputs": [],
   "source": [
    "learn.recorder.plot()"
   ]
  },
  {
   "cell_type": "code",
   "execution_count": null,
   "metadata": {},
   "outputs": [],
   "source": [
    "# learn.fit_one_cycle(1, )"
   ]
  }
 ],
 "metadata": {
  "kernelspec": {
   "display_name": "Python 3",
   "language": "python",
   "name": "python3"
  },
  "language_info": {
   "codemirror_mode": {
    "name": "ipython",
    "version": 3
   },
   "file_extension": ".py",
   "mimetype": "text/x-python",
   "name": "python",
   "nbconvert_exporter": "python",
   "pygments_lexer": "ipython3",
   "version": "3.7.4"
  }
 },
 "nbformat": 4,
 "nbformat_minor": 2
}
